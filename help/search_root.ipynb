{
 "metadata": {
  "language_info": {
   "codemirror_mode": {
    "name": "ipython",
    "version": 3
   },
   "file_extension": ".py",
   "mimetype": "text/x-python",
   "name": "python",
   "nbconvert_exporter": "python",
   "pygments_lexer": "ipython3",
   "version": "3.7.4"
  },
  "orig_nbformat": 2,
  "kernelspec": {
   "name": "python3",
   "display_name": "Python 3",
   "language": "python"
  }
 },
 "nbformat": 4,
 "nbformat_minor": 2,
 "cells": [
  {
   "cell_type": "code",
   "execution_count": 37,
   "metadata": {},
   "outputs": [],
   "source": [
    "# for saber and firesaber\n",
    "p=25166081\n",
    "root1=2921358\n",
    "R=2**32\n",
    "# for lightsaber\n",
    "# p=20972417"
   ]
  },
  {
   "cell_type": "code",
   "execution_count": 38,
   "metadata": {},
   "outputs": [],
   "source": [
    "def my_pow(input,n,p):\n",
    "    t=input**n%p\n",
    "    return t\n",
    "\n",
    "def judge_nroot(root,n):\n",
    "    for i in range(1,n):\n",
    "        if my_pow(root,i,p)==1:\n",
    "            return False\n",
    "    return True\n",
    "\n",
    "def search_root(p,n):\n",
    "    root_list=[]\n",
    "    for i in range(2,p):\n",
    "        t=my_pow(i,n>>1,p)\n",
    "        if t!=1 and t*t%p==1:\n",
    "            root_list.append(i)\n",
    "    return root_list\n",
    "\n",
    "# root_256=search_root(p,256)\n",
    "root_128=search_root(p,128)\n",
    "# print(root_256)\n",
    "# print(root_128)\n"
   ]
  },
  {
   "cell_type": "code",
   "execution_count": 39,
   "metadata": {},
   "outputs": [
    {
     "output_type": "stream",
     "name": "stdout",
     "text": [
      "[3773600, 9849271, 15316810, 21392481]\n"
     ]
    }
   ],
   "source": [
    "candidate=[]\n",
    "for root in root_128:\n",
    "    if root**32*R%p==2921358 and root**8*R%p==6577444 and root**40*R%p==1776511 and root**56*R%p==5735629 and root**4*R%p==7301157:\n",
    "        candidate.append(root)\n",
    "print(candidate)"
   ]
  },
  {
   "cell_type": "code",
   "execution_count": 1,
   "metadata": {},
   "outputs": [
    {
     "output_type": "stream",
     "name": "stdout",
     "text": [
      "NTT蝴蝶变换中常熟出现的顺序\n[0, 32, 16, 48, 8, 40, 24, 56, 4, 36, 20, 52, 12, 44, 28, 60, 2, 34, 18, 50, 10, 42, 26, 58, 6, 38, 22, 54, 14, 46, 30, 62, 1, 33, 17, 49, 9, 41, 25, 57, 5, 37, 21, 53, 13, 45, 29, 61, 3, 35, 19, 51, 11, 43, 27, 59, 7, 39, 23, 55, 15, 47, 31, 63]\nNTT层合并时的常数出现顺序\n[32, 16, 48, 8, 40, 24, 56, 4, 2, 34, 1, 33, 17, 49, 36, 18, 50, 9, 41, 25, 57, 20, 10, 42, 5, 37, 21, 53, 52, 26, 58, 13, 45, 29, 61, 12, 6, 38, 3, 35, 19, 51, 44, 22, 54, 11, 43, 27, 59, 28, 14, 46, 7, 39, 23, 55, 60, 30, 62, 15, 47, 31, 63]\nINTT中常数出现的顺序\n[1, 33, 17, 49, 9, 41, 25, 57, 5, 37, 21, 53, 13, 45, 29, 61, 3, 35, 19, 51, 11, 43, 27, 59, 7, 39, 23, 55, 15, 47, 31, 63, 2, 34, 18, 50, 10, 42, 26, 58, 6, 38, 22, 54, 14, 46, 30, 62, 4, 36, 20, 52, 12, 44, 28, 60, 8, 40, 24, 56, 16, 48, 32] len = 63\nINTT层合并时常数出现的顺序\n[4, 2, 34, 1, 33, 17, 49, 36, 18, 50, 9, 41, 25, 57, 20, 10, 42, 5, 37, 21, 53, 52, 26, 58, 13, 45, 29, 61, 12, 6, 38, 3, 35, 19, 51, 44, 22, 54, 11, 43, 27, 59, 28, 14, 46, 7, 39, 23, 55, 60, 30, 62, 15, 47, 31, 63, 32, 16, 48, 8, 40, 24, 56]\npoint-wise时需要mod (X^4-zeta^{2br(i)+1})，指数为：\n[1, 65, 33, 97, 17, 81, 49, 113, 9, 73, 41, 105, 25, 89, 57, 121, 5, 69, 37, 101, 21, 85, 53, 117, 13, 77, 45, 109, 29, 93, 61, 125, 3, 67, 35, 99, 19, 83, 51, 115, 11, 75, 43, 107, 27, 91, 59, 123, 7, 71, 39, 103, 23, 87, 55, 119, 15, 79, 47, 111, 31, 95, 63, 127]\n"
     ]
    }
   ],
   "source": [
    "def bit_reverse(input,bit_number):\n",
    "    output=0\n",
    "    for i in range(bit_number):\n",
    "        # get i-th bit\n",
    "        bit=(input>>i)&1\n",
    "        output+=bit<<(bit_number-1-i)\n",
    "    return output\n",
    "tree_64=[]\n",
    "for i in range(64):\n",
    "    tree_64.append(bit_reverse(i,6))\n",
    "# 蝴蝶变换的常数出现顺序\n",
    "print(\"NTT蝴蝶变换中常熟出现的顺序\")\n",
    "print(tree_64)\n",
    "\n",
    "# 按照层合并策略下的常数出现顺序生成zeta的阶\n",
    "def generate(in_list):\n",
    "    out_list=[]\n",
    "    for i in in_list:\n",
    "        out_list.append(i)\n",
    "        out_list.append(i*2)\n",
    "        out_list.append(i*2+1)\n",
    "        out_list.append(i*4)\n",
    "        out_list.append(i*4+1)\n",
    "        out_list.append(i*4+2)\n",
    "        out_list.append(i*4+3)\n",
    "    return out_list\n",
    "in_list=[1,8,9,10,11,12,13,14,15]\n",
    "out_list=generate(in_list)\n",
    "# print(out_list)\n",
    "\n",
    "br_out_list=[]\n",
    "for i in out_list:\n",
    "    br_out_list.append(bit_reverse(i,6))\n",
    "print(\"NTT层合并时的常数出现顺序\")\n",
    "print(br_out_list)\n",
    "\n",
    "# INTT中的常数按照层与NTT中的常数相反\n",
    "tree_64_inv=[]\n",
    "for i in range(5,-1,-1):\n",
    "    const_number=1<<i\n",
    "    for j in range(const_number,const_number*2):\n",
    "        tree_64_inv.append(bit_reverse(j,6))\n",
    "print(\"INTT中常数出现的顺序\")\n",
    "print(tree_64_inv,\"len =\",len(tree_64_inv))\n",
    "\n",
    "# 层合并时INTT中常数的出现顺序，不过要对下面的常数统统加负号\n",
    "in_list_intt=[8,9,10,11,12,13,14,15,1]\n",
    "out_list_intt=generate(in_list_intt)\n",
    "br_out_list_intt=[]\n",
    "for i in out_list_intt:\n",
    "    br_out_list_intt.append(bit_reverse(i,6))\n",
    "print(\"INTT层合并时常数出现的顺序\")\n",
    "print(br_out_list_intt)\n",
    "\n",
    "# saber中不完整NTT做完后的point-wise multiplication中是需要mod (X^4-zeta^{2br(i)+1})\n",
    "mul_table_tree=[]\n",
    "for i in range(64):\n",
    "    mul_table_tree.append(2*bit_reverse(i,6)+1)\n",
    "print(\"point-wise时需要mod (X^4-zeta^{2br(i)+1})，指数为：\")\n",
    "print(mul_table_tree)"
   ]
  }
 ]
}