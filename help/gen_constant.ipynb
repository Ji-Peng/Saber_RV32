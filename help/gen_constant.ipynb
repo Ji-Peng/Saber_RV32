{
 "metadata": {
  "language_info": {
   "codemirror_mode": {
    "name": "ipython",
    "version": 3
   },
   "file_extension": ".py",
   "mimetype": "text/x-python",
   "name": "python",
   "nbconvert_exporter": "python",
   "pygments_lexer": "ipython3",
   "version": "3.7.4-final"
  },
  "orig_nbformat": 2,
  "kernelspec": {
   "name": "python3",
   "display_name": "Python 3",
   "language": "python"
  }
 },
 "nbformat": 4,
 "nbformat_minor": 2,
 "cells": [
  {
   "cell_type": "code",
   "execution_count": 14,
   "metadata": {},
   "outputs": [
    {
     "output_type": "stream",
     "name": "stdout",
     "text": [
      "(19, 2285) (19, 2285)\n"
     ]
    }
   ],
   "source": [
    "# understand kyber newest barrett reduction\n",
    "# const int16_t v = ((1<<26) + KYBER_Q/2)/KYBER_Q;\n",
    "v=20159\n",
    "q=3329\n",
    "def method1(a):\n",
    "    t = (v*a)//(2**26)\n",
    "    return t,a-t*q\n",
    "def method2(a):\n",
    "    t=a//q\n",
    "    return t,a-t*q\n",
    "# no error when a=2**16\n",
    "a=2**16\n",
    "print(method1(a),method2(a))"
   ]
  },
  {
   "cell_type": "code",
   "execution_count": 19,
   "metadata": {},
   "outputs": [
    {
     "output_type": "stream",
     "name": "stdout",
     "text": [
      "v is 11184696\n(170, 16733526) (170, 16733526)\n"
     ]
    }
   ],
   "source": [
    "# design saber barrett reduction for 25166081<2**25\n",
    "# const int16_t v = ((1<<26) + KYBER_Q/2)/KYBER_Q;\n",
    "q=25166081\n",
    "v=((1<<48)+q//2)//q\n",
    "print(\"v is\",v)\n",
    "def method1(a):\n",
    "    t = (v*a)//(2**48)\n",
    "    return t,a-t*q\n",
    "def method2(a):\n",
    "    t=a//q\n",
    "    return t,a-t*q\n",
    "# \n",
    "a=2**32\n",
    "print(method1(a),method2(a))"
   ]
  },
  {
   "cell_type": "code",
   "execution_count": 5,
   "metadata": {
    "tags": []
   },
   "outputs": [
    {
     "output_type": "stream",
     "name": "stdout",
     "text": [
      "4253089537\n7689784\n1196413953\n4189141\n226614\n"
     ]
    }
   ],
   "source": [
    "m=25166081\n",
    "# for i in range(2**32):\n",
    "#     t=i*m%(2**32)\n",
    "#     if t==1 or t==(2**32-1):\n",
    "#         print(i)\n",
    "def EX_GCD(a,b,arr): #扩展欧几里得\n",
    "    if b == 0:\n",
    "        arr[0] = 1\n",
    "        arr[1] = 0\n",
    "        return a\n",
    "    g = EX_GCD(b, a % b, arr)\n",
    "    t = arr[0]\n",
    "    arr[0] = arr[1]\n",
    "    arr[1] = t - int(a / b) * arr[1]\n",
    "    return g\n",
    "def ModReverse(a,n): #ax=1(mod n) 求a模n的乘法逆x\n",
    "    arr = [0,1,]\n",
    "    gcd = EX_GCD(a,n,arr)\n",
    "    if gcd == 1:\n",
    "        return (arr[0] % n + n) % n\n",
    "    else:\n",
    "        return -1\n",
    "print(ModReverse(m,2**32))\n",
    "print(ModReverse(64,m)*(2**32)*(2**32)%m)\n",
    "m=4205569\n",
    "print(ModReverse(m,2**32))\n",
    "print(ModReverse(256,m))\n",
    "print(ModReverse(256,m)*(2**32)*(2**32)%m)"
   ]
  }
 ]
}