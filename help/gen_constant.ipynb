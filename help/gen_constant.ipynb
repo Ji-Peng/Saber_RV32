{
 "metadata": {
  "language_info": {
   "codemirror_mode": {
    "name": "ipython",
    "version": 3
   },
   "file_extension": ".py",
   "mimetype": "text/x-python",
   "name": "python",
   "nbconvert_exporter": "python",
   "pygments_lexer": "ipython3",
   "version": "3.7.4-final"
  },
  "orig_nbformat": 2,
  "kernelspec": {
   "name": "python3",
   "display_name": "Python 3",
   "language": "python"
  }
 },
 "nbformat": 4,
 "nbformat_minor": 2,
 "cells": [
  {
   "cell_type": "code",
   "execution_count": 14,
   "metadata": {},
   "outputs": [
    {
     "output_type": "stream",
     "name": "stdout",
     "text": [
      "(19, 2285) (19, 2285)\n"
     ]
    }
   ],
   "source": [
    "# understand kyber newest barrett reduction\n",
    "# const int16_t v = ((1<<26) + KYBER_Q/2)/KYBER_Q;\n",
    "v=20159\n",
    "q=3329\n",
    "def method1(a):\n",
    "    t = (v*a)//(2**26)\n",
    "    return t,a-t*q\n",
    "def method2(a):\n",
    "    t=a//q\n",
    "    return t,a-t*q\n",
    "# no error when a=2**16\n",
    "a=2**16\n",
    "print(method1(a),method2(a))"
   ]
  },
  {
   "cell_type": "code",
   "execution_count": 1,
   "metadata": {},
   "outputs": [
    {
     "output_type": "stream",
     "name": "stdout",
     "text": [
      "v is 66929107\n(1021, 1081347) (1021, 1081347)\n"
     ]
    }
   ],
   "source": [
    "# design saber barrett reduction for 25166081<2**25\n",
    "# q=25166081\n",
    "q=4205569\n",
    "v=((1<<48)+q//2)//q\n",
    "print(\"v is\",v)\n",
    "def method1(a):\n",
    "    t = (v*a)//(2**48)\n",
    "    return t,a-t*q\n",
    "def method2(a):\n",
    "    t=a//q\n",
    "    return t,a-t*q\n",
    "# \n",
    "a=2**32\n",
    "print(method1(a),method2(a))"
   ]
  },
  {
   "cell_type": "code",
   "execution_count": 2,
   "metadata": {
    "tags": []
   },
   "outputs": [
    {
     "output_type": "stream",
     "name": "stdout",
     "text": [
      "M 10487809\nMprime 6293503\nMINV -6293503\nRmodM 5453415\n64^-1*R*R mod M 2466627\n"
     ]
    }
   ],
   "source": [
    "def EX_GCD(a,b,arr): #扩展欧几里得\n",
    "    if b == 0:\n",
    "        arr[0] = 1\n",
    "        arr[1] = 0\n",
    "        return a\n",
    "    g = EX_GCD(b, a % b, arr)\n",
    "    t = arr[0]\n",
    "    arr[0] = arr[1]\n",
    "    arr[1] = t - int(a / b) * arr[1]\n",
    "    return g\n",
    "def ModReverse(a,n): #ax=1(mod n) 求a模n的乘法逆x\n",
    "    arr = [0,1,]\n",
    "    gcd = EX_GCD(a,n,arr)\n",
    "    if gcd == 1:\n",
    "        return (arr[0] % n + n) % n\n",
    "    else:\n",
    "        return -1\n",
    "m=10487809\n",
    "print(\"M\", m)\n",
    "# \"M mod R(2**32)\n",
    "MINV = ModReverse(m, 2**32)\n",
    "if MINV>=(2**31):\n",
    "    MINV-=(2**32)\n",
    "print(\"Mprime\", -MINV)        \n",
    "print(\"MINV\", MINV)\n",
    "# print(\"64^-1\", ModReverse(256,m))\n",
    "print(\"RmodM\", (2**32)%m)\n",
    "print(\"64^-1*R*R mod M\", ModReverse(64,m)*(2**32)*(2**32)%m)"
   ]
  },
  {
   "cell_type": "code",
   "execution_count": 17,
   "metadata": {
    "tags": []
   },
   "outputs": [
    {
     "output_type": "error",
     "ename": "KeyboardInterrupt",
     "evalue": "",
     "traceback": [
      "\u001b[1;31m---------------------------------------------------------------------------\u001b[0m",
      "\u001b[1;31mKeyboardInterrupt\u001b[0m                         Traceback (most recent call last)",
      "\u001b[1;32m<ipython-input-17-57f29eb503ca>\u001b[0m in \u001b[0;36m<module>\u001b[1;34m\u001b[0m\n\u001b[0;32m     11\u001b[0m \u001b[0mv\u001b[0m\u001b[1;33m=\u001b[0m\u001b[1;33m(\u001b[0m\u001b[1;33m(\u001b[0m\u001b[1;36m1\u001b[0m\u001b[1;33m<<\u001b[0m\u001b[0mk\u001b[0m\u001b[1;33m)\u001b[0m\u001b[1;33m+\u001b[0m\u001b[0mq\u001b[0m\u001b[1;33m//\u001b[0m\u001b[1;36m2\u001b[0m\u001b[1;33m)\u001b[0m\u001b[1;33m//\u001b[0m\u001b[0mq\u001b[0m\u001b[1;33m\u001b[0m\u001b[1;33m\u001b[0m\u001b[0m\n\u001b[0;32m     12\u001b[0m \u001b[1;32mfor\u001b[0m \u001b[0mi\u001b[0m \u001b[1;32min\u001b[0m \u001b[0mrange\u001b[0m\u001b[1;33m(\u001b[0m\u001b[1;36m2\u001b[0m\u001b[1;33m**\u001b[0m\u001b[1;36m30\u001b[0m\u001b[1;33m,\u001b[0m \u001b[1;36m2\u001b[0m\u001b[1;33m**\u001b[0m\u001b[1;36m52\u001b[0m\u001b[1;33m,\u001b[0m \u001b[1;36m100\u001b[0m\u001b[1;33m)\u001b[0m\u001b[1;33m:\u001b[0m\u001b[1;33m\u001b[0m\u001b[1;33m\u001b[0m\u001b[0m\n\u001b[1;32m---> 13\u001b[1;33m     \u001b[0mt1\u001b[0m\u001b[1;33m,\u001b[0m\u001b[0mt2\u001b[0m\u001b[1;33m,\u001b[0m\u001b[0mr\u001b[0m\u001b[1;33m=\u001b[0m\u001b[0mnew_barrett\u001b[0m\u001b[1;33m(\u001b[0m\u001b[0mi\u001b[0m\u001b[1;33m,\u001b[0m\u001b[0mk\u001b[0m\u001b[1;33m,\u001b[0m\u001b[0mq\u001b[0m\u001b[1;33m)\u001b[0m\u001b[1;33m\u001b[0m\u001b[1;33m\u001b[0m\u001b[0m\n\u001b[0m\u001b[0;32m     14\u001b[0m     \u001b[1;32mif\u001b[0m\u001b[1;33m(\u001b[0m\u001b[0mr\u001b[0m\u001b[1;33m>\u001b[0m\u001b[1;36m2\u001b[0m\u001b[1;33m*\u001b[0m\u001b[0mq\u001b[0m\u001b[1;33m)\u001b[0m\u001b[1;33m:\u001b[0m\u001b[1;33m\u001b[0m\u001b[1;33m\u001b[0m\u001b[0m\n\u001b[0;32m     15\u001b[0m         \u001b[0mprint\u001b[0m\u001b[1;33m(\u001b[0m\u001b[0mi\u001b[0m\u001b[1;33m,\u001b[0m\u001b[0mmath\u001b[0m\u001b[1;33m.\u001b[0m\u001b[0mlog2\u001b[0m\u001b[1;33m(\u001b[0m\u001b[0mi\u001b[0m\u001b[1;33m)\u001b[0m\u001b[1;33m)\u001b[0m\u001b[1;33m\u001b[0m\u001b[1;33m\u001b[0m\u001b[0m\n",
      "\u001b[1;31mKeyboardInterrupt\u001b[0m: "
     ]
    }
   ],
   "source": [
    "import math\n",
    "# design new barrett reduction\n",
    "def new_barrett(a,k,q):\n",
    "    v=((1<<k)+q//2)//q\n",
    "    t=((a>>21)*v+(1<<31))>>32\n",
    "    return t,a//q,a-t*q\n",
    "# q<2^23\n",
    "q=4205569\n",
    "# v=2^30.9\n",
    "k=53\n",
    "v=((1<<k)+q//2)//q\n",
    "for i in range(2**30, 2**52, 100):\n",
    "    t1,t2,r=new_barrett(i,k,q)\n",
    "    if(r>2*q):\n",
    "        print(i,math.log2(i))\n",
    "        break\n",
    "# new_barrett(2*q+1,k,q)"
   ]
  }
 ]
}