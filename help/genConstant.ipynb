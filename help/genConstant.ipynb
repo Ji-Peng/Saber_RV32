{
 "metadata": {
  "language_info": {
   "codemirror_mode": {
    "name": "ipython",
    "version": 3
   },
   "file_extension": ".py",
   "mimetype": "text/x-python",
   "name": "python",
   "nbconvert_exporter": "python",
   "pygments_lexer": "ipython3",
   "version": "3.7.4-final"
  },
  "orig_nbformat": 2,
  "kernelspec": {
   "name": "python3",
   "display_name": "Python 3",
   "language": "python"
  }
 },
 "nbformat": 4,
 "nbformat_minor": 2,
 "cells": [
  {
   "cell_type": "code",
   "execution_count": 1,
   "metadata": {
    "tags": []
   },
   "outputs": [
    {
     "output_type": "stream",
     "name": "stdout",
     "text": [
      "M 10487809\nMprime 6293503\nMINV -6293503\nRmodM 5453415\n64^-1*R*R mod M 2466627\n"
     ]
    }
   ],
   "source": [
    "def EX_GCD(a,b,arr): #扩展欧几里得\n",
    "    if b == 0:\n",
    "        arr[0] = 1\n",
    "        arr[1] = 0\n",
    "        return a\n",
    "    g = EX_GCD(b, a % b, arr)\n",
    "    t = arr[0]\n",
    "    arr[0] = arr[1]\n",
    "    arr[1] = t - int(a / b) * arr[1]\n",
    "    return g\n",
    "def ModReverse(a,n): #ax=1(mod n) 求a模n的乘法逆x\n",
    "    arr = [0,1,]\n",
    "    gcd = EX_GCD(a,n,arr)\n",
    "    if gcd == 1:\n",
    "        return (arr[0] % n + n) % n\n",
    "    else:\n",
    "        return -1\n",
    "m=10487809\n",
    "print(\"M\", m)\n",
    "# \"M mod R(2**32)\n",
    "MINV = ModReverse(m, 2**32)\n",
    "if MINV>=(2**31):\n",
    "    MINV-=(2**32)\n",
    "print(\"Mprime\", -MINV)        \n",
    "print(\"MINV\", MINV)\n",
    "# print(\"64^-1\", ModReverse(256,m))\n",
    "print(\"RmodM\", (2**32)%m)\n",
    "print(\"64^-1*R*R mod M\", ModReverse(64,m)*(2**32)*(2**32)%m)"
   ]
  }
 ]
}