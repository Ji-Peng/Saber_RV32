{
 "metadata": {
  "language_info": {
   "codemirror_mode": {
    "name": "ipython",
    "version": 3
   },
   "file_extension": ".py",
   "mimetype": "text/x-python",
   "name": "python",
   "nbconvert_exporter": "python",
   "pygments_lexer": "ipython3",
   "version": "3.7.4-final"
  },
  "orig_nbformat": 2,
  "kernelspec": {
   "name": "python3",
   "display_name": "Python 3",
   "language": "python"
  }
 },
 "nbformat": 4,
 "nbformat_minor": 2,
 "cells": [
  {
   "cell_type": "code",
   "execution_count": 4,
   "metadata": {
    "tags": []
   },
   "outputs": [
    {
     "output_type": "stream",
     "name": "stdout",
     "text": [
      "5243393 22.322069251341436\n5242880 8388608 5243393\n"
     ]
    }
   ],
   "source": [
    "import math\n",
    "# determine if n is prime\n",
    "def isPrime(n):\n",
    "  if n <= 1:\n",
    "    return False\n",
    "  i = 2\n",
    "  while i*i <= n:\n",
    "    if n % i == 0:\n",
    "      return False\n",
    "    i += 1\n",
    "  return True\n",
    "# M-1 | 512 for existence of 512th root\n",
    "# M>=5*2^20, M<2^23, M=512i+1 ==> i>=5*2^11 i<2^14\n",
    "# M-1=512*i, 512=2**9, i>2**13, i<2**22\n",
    "for i in range(5*(2**11), 2**14):\n",
    "    M=512*i+1\n",
    "    if isPrime(M) == True:\n",
    "        print(M, math.log2(M))\n",
    "        break\n",
    "m_min = 5*(2**20)\n",
    "m_max = 2**23\n",
    "print(m_min, m_max, M)"
   ]
  }
 ]
}