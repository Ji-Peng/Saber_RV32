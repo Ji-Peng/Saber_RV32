{
 "metadata": {
  "language_info": {
   "codemirror_mode": {
    "name": "ipython",
    "version": 3
   },
   "file_extension": ".py",
   "mimetype": "text/x-python",
   "name": "python",
   "nbconvert_exporter": "python",
   "pygments_lexer": "ipython3",
   "version": "3.7.4-final"
  },
  "orig_nbformat": 2,
  "kernelspec": {
   "name": "python3",
   "display_name": "Python 3.7.4 64-bit (conda)",
   "metadata": {
    "interpreter": {
     "hash": "b451baf41a40528126b9d23ec559acbecf30e8c640eda3a4018f9ff147fd2211"
    }
   }
  }
 },
 "nbformat": 4,
 "nbformat_minor": 2,
 "cells": [
  {
   "cell_type": "code",
   "execution_count": 3,
   "metadata": {
    "tags": []
   },
   "outputs": [
    {
     "output_type": "stream",
     "name": "stdout",
     "text": [
      "4205569 22.003869575023057\n"
     ]
    }
   ],
   "source": [
    "import math\n",
    "# determine if n is prime\n",
    "def isPrime(n):\n",
    "  if n <= 1:\n",
    "    return False\n",
    "  i = 2\n",
    "  while i*i <= n:\n",
    "    if n % i == 0:\n",
    "      return False\n",
    "    i += 1\n",
    "  return True\n",
    "# M-1 | 512 for existence of 512th root\n",
    "# M-1=512*i, 512=2**9, i>2**13, i<2**22\n",
    "for i in range(2**13, 2**22):\n",
    "    M=512*i+1\n",
    "    if isPrime(M) == True:\n",
    "        print(M, math.log2(M))\n",
    "        break\n"
   ]
  }
 ]
}